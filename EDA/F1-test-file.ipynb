{
 "cells": [
  {
   "cell_type": "code",
   "execution_count": 6,
   "metadata": {},
   "outputs": [
    {
     "data": {
      "text/plain": [
       "[{'driver_number': 55,\n",
       "  'rpm': 11141,\n",
       "  'speed': 315,\n",
       "  'n_gear': 8,\n",
       "  'throttle': 99,\n",
       "  'brake': 0,\n",
       "  'drs': 12,\n",
       "  'date': '2023-09-15T13:08:19.923000+00:00',\n",
       "  'session_key': 9159,\n",
       "  'meeting_key': 1219},\n",
       " {'driver_number': 55,\n",
       "  'rpm': 11023,\n",
       "  'speed': 315,\n",
       "  'n_gear': 8,\n",
       "  'throttle': 57,\n",
       "  'brake': 100,\n",
       "  'drs': 8,\n",
       "  'date': '2023-09-15T13:35:41.808000+00:00',\n",
       "  'session_key': 9159,\n",
       "  'meeting_key': 1219}]"
      ]
     },
     "execution_count": 6,
     "metadata": {},
     "output_type": "execute_result"
    }
   ],
   "source": [
    "from urllib.request import urlopen\n",
    "import json\n",
    "\n",
    "response = urlopen('https://api.openf1.org/v1/car_data?driver_number=55&session_key=9159&speed>=315')\n",
    "data = json.loads(response.read().decode('utf-8'))\n",
    "data"
   ]
  },
  {
   "cell_type": "code",
   "execution_count": 9,
   "metadata": {},
   "outputs": [
    {
     "data": {
      "text/plain": [
       "[{'driver_number': 1,\n",
       "  'broadcast_name': 'M VERSTAPPEN',\n",
       "  'full_name': 'Max VERSTAPPEN',\n",
       "  'name_acronym': 'VER',\n",
       "  'team_name': 'Red Bull Racing',\n",
       "  'team_colour': '3671C6',\n",
       "  'first_name': 'Max',\n",
       "  'last_name': 'Verstappen',\n",
       "  'headshot_url': 'https://www.formula1.com/content/dam/fom-website/drivers/M/MAXVER01_Max_Verstappen/maxver01.png.transform/1col/image.png',\n",
       "  'country_code': 'NED',\n",
       "  'session_key': 9158,\n",
       "  'meeting_key': 1219}]"
      ]
     },
     "execution_count": 9,
     "metadata": {},
     "output_type": "execute_result"
    }
   ],
   "source": [
    "response = urlopen('https://api.openf1.org/v1/drivers?driver_number=1&session_key=9158')\n",
    "data = json.loads(response.read().decode('utf-8'))\n",
    "data"
   ]
  },
  {
   "cell_type": "code",
   "execution_count": null,
   "metadata": {},
   "outputs": [],
   "source": []
  }
 ],
 "metadata": {
  "kernelspec": {
   "display_name": "Python 3",
   "language": "python",
   "name": "python3"
  },
  "language_info": {
   "codemirror_mode": {
    "name": "ipython",
    "version": 3
   },
   "file_extension": ".py",
   "mimetype": "text/x-python",
   "name": "python",
   "nbconvert_exporter": "python",
   "pygments_lexer": "ipython3",
   "version": "3.10.7"
  }
 },
 "nbformat": 4,
 "nbformat_minor": 2
}
